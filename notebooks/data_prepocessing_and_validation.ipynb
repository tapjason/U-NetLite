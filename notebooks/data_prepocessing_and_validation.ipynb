{
 "cells": [
  {
   "cell_type": "code",
   "execution_count": 2,
   "id": "ea88a74c",
   "metadata": {},
   "outputs": [],
   "source": [
    "import os\n",
    "import sys\n",
    "import numpy as np\n",
    "import pandas as pd\n",
    "import matplotlib.pyplot as plt\n",
    "import requests\n",
    "from tqdm import tqdm\n",
    "import cv2\n",
    "import random\n",
    "import json\n",
    "from pathlib import Path\n",
    "from sklearn.model_selection import train_test_split\n",
    "import zipfile\n",
    "import io\n",
    "from PIL import Image\n",
    "import shutil\n",
    "from urllib.parse import urljoin"
   ]
  },
  {
   "cell_type": "code",
   "execution_count": 3,
   "id": "d4adaf58",
   "metadata": {},
   "outputs": [],
   "source": [
    "def create_directories(base_dir='./isic2018_data'):\n",
    "    \"\"\"Create necessary directories for the ISIC 2018 dataset\"\"\"\n",
    "    directories = [\n",
    "        base_dir,\n",
    "        os.path.join(base_dir, 'task1'),\n",
    "        os.path.join(base_dir, 'task1', 'images'),\n",
    "        os.path.join(base_dir, 'task1', 'masks'),\n",
    "        os.path.join(base_dir, 'task1', 'preprocessed'),\n",
    "        os.path.join(base_dir, 'logs')\n",
    "    ]\n",
    "    \n",
    "    for directory in directories:\n",
    "        os.makedirs(directory, exist_ok=True)\n",
    "        print(f\"Created directory: {directory}\")\n",
    "    \n",
    "    return base_dir"
   ]
  },
  {
   "cell_type": "code",
   "execution_count": null,
   "id": "4718f424",
   "metadata": {},
   "outputs": [],
   "source": []
  }
 ],
 "metadata": {
  "kernelspec": {
   "display_name": "Python (medseg)",
   "language": "python",
   "name": "medseg"
  },
  "language_info": {
   "codemirror_mode": {
    "name": "ipython",
    "version": 3
   },
   "file_extension": ".py",
   "mimetype": "text/x-python",
   "name": "python",
   "nbconvert_exporter": "python",
   "pygments_lexer": "ipython3",
   "version": "3.10.16"
  }
 },
 "nbformat": 4,
 "nbformat_minor": 5
}
