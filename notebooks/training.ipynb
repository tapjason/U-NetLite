{
 "cells": [
  {
   "cell_type": "code",
   "execution_count": null,
   "id": "ab193966-d9b2-4b1d-b0ea-fed0def646bb",
   "metadata": {},
   "outputs": [],
   "source": []
  }
 ],
 "metadata": {
  "kernelspec": {
   "display_name": "",
   "name": ""
  },
  "language_info": {
   "name": ""
  }
 },
 "nbformat": 4,
 "nbformat_minor": 5
}
