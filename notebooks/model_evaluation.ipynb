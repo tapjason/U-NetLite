{
 "cells": [
  {
   "cell_type": "code",
   "execution_count": 1,
   "id": "7352fb77-f2d7-40e7-8511-9997be05d655",
   "metadata": {},
   "outputs": [],
   "source": [
    "import torch\n",
    "import torch.nn as nn\n",
    "import numpy as np\n",
    "import matplotlib.pyplot as plt\n",
    "import os\n",
    "from PIL import Image\n",
    "import torchvision.transforms as transforms\n",
    "from tqdm import tqdm\n",
    "import seaborn as sns\n",
    "import pandas as pd\n",
    "import time"
   ]
  },
  {
   "cell_type": "code",
   "execution_count": 9,
   "id": "d6120788-93a0-49bc-aec1-af1e2f25f18b",
   "metadata": {},
   "outputs": [],
   "source": [
    "import os\n",
    "import sys\n",
    "sys.path.append('../src')\n",
    "from models.unet import UNet\n",
    "from models.enhanced_unet import EnhancedUNet\n",
    "from utils.metrics import dice_coefficient, iou_coefficient"
   ]
  },
  {
   "cell_type": "code",
   "execution_count": 4,
   "id": "843fee78-78e7-4f8b-9559-d837726f5276",
   "metadata": {},
   "outputs": [
    {
     "name": "stdout",
     "output_type": "stream",
     "text": [
      "Using device: cuda\n"
     ]
    }
   ],
   "source": [
    "models = {\n",
    "    'baseline_unet': UNet(n_channels=3, n_classes=1),\n",
    "    'enhanced_unet': EnhancedUNet(n_channels=3, n_classes=1)\n",
    "}\n",
    "\n",
    "device = torch.device('cuda' if torch.cuda.is_available() else 'cpu')\n",
    "print(f\"Using device: {device}\")"
   ]
  },
  {
   "cell_type": "code",
   "execution_count": 8,
   "id": "7a0c829c-5c3d-4fe6-9808-337d6ece8e06",
   "metadata": {},
   "outputs": [
    {
     "name": "stdout",
     "output_type": "stream",
     "text": [
      "Successfully loaded baseline_unet\n",
      "Successfully loaded enhanced_unet\n"
     ]
    }
   ],
   "source": [
    "loaded_models = {}\n",
    "for model_name, model in models.items():\n",
    "    try:\n",
    "        # Load best model\n",
    "        model_path = f'../saved_models/{model_name}/best_model.pth'\n",
    "        state_dict = torch.load(model_path, map_location=device)\n",
    "        model.load_state_dict(state_dict)\n",
    "        model.to(device)\n",
    "        model.eval()\n",
    "        loaded_models[model_name] = model\n",
    "        print(f\"Successfully loaded {model_name}\")\n",
    "    except Exception as e:\n",
    "        print(f\"Error loading {model_name}: {e}\")"
   ]
  },
  {
   "cell_type": "code",
   "execution_count": null,
   "id": "acf49647-0ba8-4d61-8234-ea5d48bf4462",
   "metadata": {},
   "outputs": [],
   "source": []
  }
 ],
 "metadata": {
  "kernelspec": {
   "display_name": "Python 3 (ipykernel)",
   "language": "python",
   "name": "python3"
  },
  "language_info": {
   "codemirror_mode": {
    "name": "ipython",
    "version": 3
   },
   "file_extension": ".py",
   "mimetype": "text/x-python",
   "name": "python",
   "nbconvert_exporter": "python",
   "pygments_lexer": "ipython3",
   "version": "3.10.16"
  }
 },
 "nbformat": 4,
 "nbformat_minor": 5
}
